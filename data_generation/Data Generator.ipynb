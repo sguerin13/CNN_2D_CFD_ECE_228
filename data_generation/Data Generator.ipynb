{
 "cells": [
  {
   "cell_type": "code",
   "execution_count": 2,
   "metadata": {
    "scrolled": false
   },
   "outputs": [
    {
     "name": "stderr",
     "output_type": "stream",
     "text": [
      "[0] WARNING  pylbm.scheme in function _check_inverse line 384\n",
      "Problem M * invM is not identity !!!\n"
     ]
    },
    {
     "name": "stdout",
     "output_type": "stream",
     "text": [
      "Reynolds number  2.000e+00\n",
      "0.015625\n"
     ]
    },
    {
     "data": {
      "image/png": "[encoded data removed]",
      "text/plain": [
       "<Figure size 432x288 with 1 Axes>"
      ]
     },
     "metadata": {
      "needs_background": "light"
     },
     "output_type": "display_data"
    }
   ],
   "source": [
    "import numpy as np\n",
    "import sympy as sp\n",
    "import pylbm\n",
    "import sys\n",
    "\n",
    "\"\"\"\n",
    "\n",
    "Von Karman vortex street simulated by Navier-Stokes solver D2Q9\n",
    "\n",
    "Reynolds number = 250\n",
    "\n",
    "\"\"\"\n",
    "def printProgress (iteration, total, prefix = '', suffix = '', decimals = 1, barLength = 100):\n",
    "    \"\"\"\n",
    "    Call in a loop to create terminal progress bar\n",
    "    @params:\n",
    "        iteration   - Required  : current iteration (Int)\n",
    "        total       - Required  : total iterations (Int)\n",
    "        prefix      - Optional  : prefix string (Str)\n",
    "        suffix      - Optional  : suffix string (Str)\n",
    "        decimals    - Optional  : positive number of decimals in percent complete (Int)\n",
    "        barLength   - Optional  : character length of bar (Int)\n",
    "    \"\"\"\n",
    "    formatStr       = \"{0:.\" + str(decimals) + \"f}\"\n",
    "    percents        = formatStr.format(100 * (iteration / float(total)))\n",
    "    filledLength    = int(round(barLength * iteration / float(total)))\n",
    "    bar             = '*' * filledLength + '-' * (barLength - filledLength)\n",
    "    sys.stdout.write('\\r%s |%s| %s%s %s' % (prefix, bar, percents, '%', suffix)),\n",
    "    sys.stdout.flush()\n",
    "    if iteration == total:\n",
    "        sys.stdout.write('\\n')\n",
    "        sys.stdout.flush()\n",
    "\n",
    "h5_save = False\n",
    "\n",
    "X, Y, LA = sp.symbols('X, Y, LA')\n",
    "rho, qx, qy = sp.symbols('rho, qx, qy')\n",
    "\n",
    "def bc_rect(f, m, x, y, rhoo, uo):\n",
    "    m[rho] = 0.\n",
    "    m[qx] = rhoo*uo\n",
    "    m[qy] = 0.\n",
    "\n",
    "def vorticity(sol):\n",
    "    qx_n = sol.m[qx]\n",
    "    qy_n = sol.m[qy]\n",
    "    vort = np.abs(qx_n[1:-1, 2:] - qx_n[1:-1, :-2]\n",
    "                  - qy_n[2:, 1:-1] + qy_n[:-2, 1:-1])\n",
    "    return vort.T\n",
    "\n",
    "def save(mpi_topo, x, y, m, num):\n",
    "    h5 = pylbm.H5File(mpi_topo, filename, path, num)\n",
    "    h5.set_grid(x, y)\n",
    "    h5.add_scalar('rho', m[rho])\n",
    "    h5.add_vector('velocity', [m[qx], m[qy]])\n",
    "    h5.save()\n",
    "    \n",
    "\n",
    "# parameters\n",
    "xmin, xmax, ymin, ymax = 0., 2., 0., 1.\n",
    "radius = 0.125\n",
    "if h5_save:\n",
    "    dx = 1./512 # spatial step\n",
    "else:\n",
    "    dx = 1./64\n",
    "la = 1. # velocity of the scheme\n",
    "rhoo = 1.\n",
    "uo = 0.004\n",
    "mu = 5.e-4\n",
    "zeta = 10*mu\n",
    "dummy = 3.0/(la*rhoo*dx)\n",
    "s1 = 1.0/(0.5+zeta*dummy)\n",
    "s2 = 1.0/(0.5+mu*dummy)\n",
    "s  = [0.,0.,0.,s1,s1,s1,s1,s2,s2]\n",
    "dummy = 1./(LA**2*rhoo)\n",
    "qx2 = dummy*qx**2\n",
    "qy2 = dummy*qy**2\n",
    "q2  = qx2+qy2\n",
    "qxy = dummy*qx*qy\n",
    "\n",
    "\n",
    "\n",
    "dico = {\n",
    "    'box': {\n",
    "        'x': [xmin, xmax],\n",
    "        'y': [ymin, ymax],\n",
    "        'label': [0, 1, 0, 0]\n",
    "    },\n",
    "    'elements': [pylbm.Circle([.5, 0.5*(ymin+ymax)+2*dx], radius, label=2)],\n",
    "    'space_step': dx,\n",
    "    'scheme_velocity': LA,\n",
    "    'schemes': [\n",
    "        {\n",
    "            'velocities': list(range(9)),\n",
    "            'polynomials': [\n",
    "                1,\n",
    "                LA*X, LA*Y,\n",
    "                3*(X**2+Y**2)-4,\n",
    "                0.5*(9*(X**2+Y**2)**2-21*(X**2+Y**2)+8),\n",
    "                3*X*(X**2+Y**2)-5*X, 3*Y*(X**2+Y**2)-5*Y,\n",
    "                X**2-Y**2, X*Y\n",
    "            ],\n",
    "            'relaxation_parameters': s,\n",
    "            'equilibrium': [\n",
    "                rho,\n",
    "                qx, qy,\n",
    "                -2*rho + 3*q2,\n",
    "                rho - 3*q2,\n",
    "                -qx/LA, -qy/LA,\n",
    "                qx2 - qy2, qxy\n",
    "            ],\n",
    "            'conserved_moments': [rho, qx, qy],\n",
    "        },\n",
    "    ],\n",
    "    'init': {rho: rhoo,\n",
    "             qx: rhoo*uo,\n",
    "             qy: 0.\n",
    "    },\n",
    "    'parameters': {LA: la},\n",
    "    'boundary_conditions': {\n",
    "        0: {'method': {0: pylbm.bc.BouzidiBounceBack}, 'value': (bc_rect, (rhoo, uo))},\n",
    "        1: {'method': {0: pylbm.bc.NeumannX}},\n",
    "        2: {'method': {0: pylbm.bc.BouzidiBounceBack}},\n",
    "    },\n",
    "    'generator': \"cython\",\n",
    "}\n",
    "\n",
    "sol = pylbm.Simulation(dico)\n",
    "\n",
    "Re = rhoo*uo*2*radius/mu\n",
    "print(\"Reynolds number {0:10.3e}\".format(Re))\n",
    "\n",
    "x, y = sol.domain.x, sol.domain.y\n",
    "print(sol.dt)\n",
    "numpy_save = False\n",
    "\n",
    "if h5_save:\n",
    "    Tf = 500.\n",
    "    im = 0\n",
    "    l = Tf / sol.dt / 64\n",
    "    printProgress(im, l, prefix='Progress:', suffix='Complete', barLength=50)\n",
    "    filename = 'Karman'\n",
    "    path = './data_' + filename\n",
    "    #save(sol.mpi_topo, x, y, sol.m, im)\n",
    "    e = np.zeros()\n",
    "    while sol.t < Tf:\n",
    "        for k in range(64):\n",
    "            print(sol.t)\n",
    "            sol.one_time_step()\n",
    "        im += 1\n",
    "        printProgress(im, l, prefix='Progress:', suffix='Complete', barLength=50)\n",
    "        \n",
    "        save(sol.mpi_topo, x, y, sol.m, im)\n",
    "elif numpy_save:\n",
    "    Tf = 250.\n",
    "    im = 0\n",
    "    l = Tf / sol.dt / 64\n",
    "    printProgress(im, l, prefix='Progress:', suffix='Complete', barLength=50)\n",
    "    filename = 'Re_' + str(int(Re))\n",
    "    path = '.timestep_exploration' + filename\n",
    "    #save(sol.mpi_topo, x, y, sol.m, im)\n",
    "\n",
    "    first = True\n",
    "    \n",
    "    while sol.t < Tf:\n",
    "        for k in range(64):\n",
    "#             print(sol.dt)\n",
    "            print(sol.t)\n",
    "            sol.one_time_step()\n",
    "        im += 1\n",
    "        printProgress(im, l, prefix='Progress:', suffix='Complete', barLength=50)\n",
    "        \n",
    "        if first:\n",
    "            vx_map = sol.m[qx][:,:,np.newaxis]\n",
    "            vy_map = sol.m[qy][:,:,np.newaxis]\n",
    "            rho_map = sol.m[rho][:,:,np.newaxis]\n",
    "            first = False\n",
    "        else:\n",
    "            vx_map = np.dstack((vx_map, sol.m[qx]))\n",
    "            vy_map = np.dstack((vy_map, sol.m[qy]))\n",
    "            rho_map = np.dstack((rho_map, sol.m[rho]))\n",
    "            \n",
    "    np.savez(filename,vx=vx_map, vy=vy_map, rho=rho_map)\n",
    "    \n",
    "elif h5_save:\n",
    "    Tf = 250.\n",
    "    im = 0\n",
    "    l = Tf / sol.dt / 64\n",
    "    printProgress(im, l, prefix='Progress:', suffix='Complete', barLength=50)\n",
    "    filename = 'Re_' + str(int(Re))\n",
    "    path = './data_' + filename\n",
    "    #save(sol.mpi_topo, x, y, sol.m, im)\n",
    "\n",
    "    first = True\n",
    "    \n",
    "    while sol.t < Tf:\n",
    "        for k in range(64):\n",
    "            sol.one_time_step()\n",
    "        im += 1\n",
    "        printProgress(im, l, prefix='Progress:', suffix='Complete', barLength=50)\n",
    "        \n",
    "        if first:\n",
    "            vx_map = sol.m[qx][:,:,np.newaxis]\n",
    "            vy_map = sol.m[qy][:,:,np.newaxis]\n",
    "            rho_map = sol.m[rho][:,:,np.newaxis]\n",
    "            first = False\n",
    "        else:\n",
    "            vx_map = np.dstack((vx_map, sol.m[qx]))\n",
    "            vy_map = np.dstack((vy_map, sol.m[qy]))\n",
    "            rho_map = np.dstack((rho_map, sol.m[rho]))\n",
    "            \n",
    "    np.savez(filename,vx=vx_map, vy=vy_map, rho=rho_map)\n",
    "    \n",
    "else:\n",
    "    viewer = pylbm.viewer.matplotlib_viewer\n",
    "    fig = viewer.Fig()\n",
    "    ax = fig[0]\n",
    "    #ax.ellipse([.3/dx, 0.5*(ymin+ymax)/dx+2], [radius/dx, radius/dx], 'r')\n",
    "    image = ax.image(vorticity(sol), cmap='plasma', clim=[0, .1])\n",
    "    epsilon = 1e-3\n",
    "    prev_x = sol.m[qx]\n",
    "    prev_y = sol.m[qy]\n",
    "    \n",
    "\n",
    "    def update(iframe):\n",
    "        nrep = 2\n",
    "        for i in range(nrep):\n",
    "            sol.one_time_step()\n",
    "        image.set_data(vorticity(sol))\n",
    "        \n",
    "        ax.title = \"Solution t={0:f}\".format(sol.t)\n",
    "\n",
    "    # run the simulation\n",
    "    fig.animate(update, interval=1/32)\n",
    "    fig.show()\n"
   ]
  },
  {
   "cell_type": "code",
   "execution_count": 2,
   "metadata": {},
   "outputs": [
    {
     "name": "stdout",
     "output_type": "stream",
     "text": [
      "Obstacle number 0\n"
     ]
    },
    {
     "name": "stderr",
     "output_type": "stream",
     "text": [
      "[0] WARNING  pylbm.scheme in function _check_inverse line 384\n",
      "Problem M * invM is not identity !!!\n"
     ]
    },
    {
     "name": "stdout",
     "output_type": "stream",
     "text": [
      "Reynolds number  2.000e+00\n"
     ]
    },
    {
     "data": {
      "image/png": "[encoded data removed]",
      "text/plain": [
       "<Figure size 432x288 with 1 Axes>"
      ]
     },
     "metadata": {
      "needs_background": "light"
     },
     "output_type": "display_data"
    },
    {
     "name": "stdout",
     "output_type": "stream",
     "text": [
      "Obstacle number 1\n"
     ]
    },
    {
     "name": "stderr",
     "output_type": "stream",
     "text": [
      "[0] WARNING  pylbm.scheme in function _check_inverse line 384\n",
      "Problem M * invM is not identity !!!\n"
     ]
    },
    {
     "name": "stdout",
     "output_type": "stream",
     "text": [
      "Reynolds number  2.000e+00\n"
     ]
    },
    {
     "data": {
      "image/png": "[encoded data removed]",
      "text/plain": [
       "<Figure size 432x288 with 1 Axes>"
      ]
     },
     "metadata": {
      "needs_background": "light"
     },
     "output_type": "display_data"
    }
   ],
   "source": []
  },
  {
   "cell_type": "code",
   "execution_count": 5,
   "metadata": {},
   "outputs": [],
   "source": [
    "fig.animate(update)\n",
    "fig.show()"
   ]
  },
  {
   "cell_type": "code",
   "execution_count": 7,
   "metadata": {},
   "outputs": [],
   "source": [
    "from matplotlib import animation, rc\n",
    "from IPython.display import HTML"
   ]
  },
  {
   "cell_type": "code",
   "execution_count": null,
   "metadata": {},
   "outputs": [],
   "source": []
  }
 ],
 "metadata": {
  "kernelspec": {
   "display_name": "Python 3",
   "language": "python",
   "name": "python3"
  },
  "language_info": {
   "codemirror_mode": {
    "name": "ipython",
    "version": 3
   },
   "file_extension": ".py",
   "mimetype": "text/x-python",
   "name": "python",
   "nbconvert_exporter": "python",
   "pygments_lexer": "ipython3",
   "version": "3.6.10"
  }
 },
 "nbformat": 4,
 "nbformat_minor": 4
}
